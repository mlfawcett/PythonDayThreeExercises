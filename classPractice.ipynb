{
 "cells": [
  {
   "cell_type": "code",
   "execution_count": 7,
   "metadata": {},
   "outputs": [
    {
     "name": "stdout",
     "output_type": "stream",
     "text": [
      "{'teacher': {'name': 'George', 'age': '50', 'email': 'george@email.com'}, 'ta': {'name': 'Tom', 'age': '55', 'email': 'tom@email.com'}, 'student1': {'name': 'Michael', 'age': '60', 'email': 'michael@email.com'}, 'student2': {'name': 'Suny', 'age': '10', 'email': 'suny@email.com'}}\n"
     ]
    }
   ],
   "source": [
    "#keys - name, age, email\n",
    "# class = {\n",
    "#        teacher\n",
    "#        ta\n",
    "#        student1\n",
    "#        Student2\n",
    "#         }\n",
    "\n",
    "myClass = {\n",
    "    \"teacher\" : {\"name\": \"George\", \"age\": \"50\", \"email\": \"george@email.com\"},\n",
    "    \"ta\" : {\"name\": \"Tom\", \"age\": \"55\", \"email\": \"tom@email.com\"},\n",
    "    \"student1\" : {\"name\": \"Michael\", \"age\": \"60\", \"email\": \"michael@email.com\"},\n",
    "    \"student2\" : {\"name\": \"Suny\", \"age\": \"10\", \"email\": \"suny@email.com\"}\n",
    "}\n",
    "print(myClass)\n"
   ]
  },
  {
   "cell_type": "code",
   "execution_count": 15,
   "metadata": {},
   "outputs": [
    {
     "name": "stdout",
     "output_type": "stream",
     "text": [
      "The name is George they are 50 years old and can be reached at george@email.com\n",
      "The name is Tom they are 55 years old and can be reached at tom@email.com\n",
      "The name is Michael they are 60 years old and can be reached at michael@email.com\n",
      "The name is Suny they are 10 years old and can be reached at suny@email.com\n"
     ]
    }
   ],
   "source": [
    "# The name is NAME they are XX years old and can be reached at a@b.com\n",
    "\n",
    "def printPerson(nextOne):\n",
    "    print(\"The name is\", nextOne.get(\"name\"), \"they are\", nextOne.get(\"age\"), \"years old and can be reached at\", nextOne.get(\"email\"))\n",
    "\n",
    "for nextPerson in myClass.values():\n",
    "    printPerson(nextPerson)\n"
   ]
  },
  {
   "cell_type": "code",
   "execution_count": 16,
   "metadata": {},
   "outputs": [
    {
     "name": "stdout",
     "output_type": "stream",
     "text": [
      "{'name': 'George', 'age': '50', 'email': 'george@email.com'}\n",
      "{'name': 'Tom', 'age': '55', 'email': 'tom@email.com'}\n",
      "{'name': 'Michael', 'age': '60', 'email': 'michael@email.com'}\n",
      "{'name': 'Suny', 'age': '10', 'email': 'suny@email.com'}\n"
     ]
    }
   ],
   "source": [
    "for nextPerson in myClass.values():\n",
    "    print(nextPerson)\n"
   ]
  },
  {
   "cell_type": "code",
   "execution_count": null,
   "metadata": {},
   "outputs": [],
   "source": []
  }
 ],
 "metadata": {
  "kernelspec": {
   "display_name": "Python 3",
   "language": "python",
   "name": "python3"
  },
  "language_info": {
   "codemirror_mode": {
    "name": "ipython",
    "version": 3
   },
   "file_extension": ".py",
   "mimetype": "text/x-python",
   "name": "python",
   "nbconvert_exporter": "python",
   "pygments_lexer": "ipython3",
   "version": "3.7.6"
  }
 },
 "nbformat": 4,
 "nbformat_minor": 4
}
