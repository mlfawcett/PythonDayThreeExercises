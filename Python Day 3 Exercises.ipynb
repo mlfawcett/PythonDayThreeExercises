{
 "cells": [
  {
   "cell_type": "markdown",
   "metadata": {},
   "source": [
    "Create a dictionary named pairs with key value pairs of hello and fire, 3 and seven, strong and 45"
   ]
  },
  {
   "cell_type": "code",
   "execution_count": 1,
   "metadata": {},
   "outputs": [
    {
     "name": "stdout",
     "output_type": "stream",
     "text": [
      "{'hello': 'fire', '3': 'seven', 'strong': '45'}\n"
     ]
    }
   ],
   "source": [
    "newDictionary = {\n",
    "    \"hello\": \"fire\",\n",
    "    \"3\": \"seven\",\n",
    "    \"strong\": \"45\"\n",
    "}\n",
    "print(newDictionary)"
   ]
  },
  {
   "cell_type": "markdown",
   "metadata": {},
   "source": [
    "Print the dictionary pairs out"
   ]
  },
  {
   "cell_type": "code",
   "execution_count": 2,
   "metadata": {},
   "outputs": [
    {
     "name": "stdout",
     "output_type": "stream",
     "text": [
      "hello fire\n",
      "3 seven\n",
      "strong 45\n"
     ]
    }
   ],
   "source": [
    "for x, y in newDictionary.items():\n",
    "    print(x, y)"
   ]
  },
  {
   "cell_type": "markdown",
   "metadata": {},
   "source": [
    "Add a new pair into the dictionary called pairs. Add welcome and 56"
   ]
  },
  {
   "cell_type": "code",
   "execution_count": 3,
   "metadata": {},
   "outputs": [
    {
     "name": "stdout",
     "output_type": "stream",
     "text": [
      "{'hello': 'fire', '3': 'seven', 'strong': '45', 'welcome': '56'}\n"
     ]
    }
   ],
   "source": [
    "newDictionary[\"welcome\"] = \"56\"\n",
    "print(newDictionary)"
   ]
  },
  {
   "cell_type": "markdown",
   "metadata": {},
   "source": [
    "Delete one item from the Dictionary and print it out"
   ]
  },
  {
   "cell_type": "code",
   "execution_count": 6,
   "metadata": {},
   "outputs": [
    {
     "name": "stdout",
     "output_type": "stream",
     "text": [
      "{'hello': 'fire', 'strong': '45', 'welcome': '56'}\n"
     ]
    }
   ],
   "source": [
    "newDictionary.pop('3')\n",
    "print(newDictionary)"
   ]
  },
  {
   "cell_type": "markdown",
   "metadata": {},
   "source": [
    "Pull out one item from the dicitonary"
   ]
  },
  {
   "cell_type": "code",
   "execution_count": 7,
   "metadata": {},
   "outputs": [
    {
     "name": "stdout",
     "output_type": "stream",
     "text": [
      "fire\n"
     ]
    }
   ],
   "source": [
    "item = newDictionary.get(\"hello\")\n",
    "print(item)"
   ]
  },
  {
   "cell_type": "markdown",
   "metadata": {},
   "source": [
    "Try to find out if the key called hello exist. Print out the key is found if it is there otherwise print out the key is not there."
   ]
  },
  {
   "cell_type": "code",
   "execution_count": 8,
   "metadata": {},
   "outputs": [
    {
     "name": "stdout",
     "output_type": "stream",
     "text": [
      "Yes, 'hello' is one of the keys in the newDictionary\n"
     ]
    }
   ],
   "source": [
    "if \"hello\" in newDictionary:\n",
    "  print(\"Yes, 'hello' is one of the keys in the newDictionary\")"
   ]
  },
  {
   "cell_type": "markdown",
   "metadata": {},
   "source": [
    "Please loop through the dictionary and print out each value. "
   ]
  },
  {
   "cell_type": "code",
   "execution_count": 14,
   "metadata": {},
   "outputs": [
    {
     "name": "stdout",
     "output_type": "stream",
     "text": [
      "fire\n",
      "45\n",
      "56\n"
     ]
    }
   ],
   "source": [
    "for nextValue in newDictionary.values():\n",
    "    print(nextValue)"
   ]
  },
  {
   "cell_type": "markdown",
   "metadata": {},
   "source": [
    "Please loop through the dictionary and print out each key."
   ]
  },
  {
   "cell_type": "code",
   "execution_count": 15,
   "metadata": {},
   "outputs": [
    {
     "name": "stdout",
     "output_type": "stream",
     "text": [
      "hello\n",
      "strong\n",
      "welcome\n"
     ]
    }
   ],
   "source": [
    "for nextValue in newDictionary:\n",
    "    print(nextValue)"
   ]
  },
  {
   "cell_type": "markdown",
   "metadata": {},
   "source": [
    "Please loop through the dictionary and print out each key and value pair. "
   ]
  },
  {
   "cell_type": "code",
   "execution_count": 17,
   "metadata": {},
   "outputs": [
    {
     "name": "stdout",
     "output_type": "stream",
     "text": [
      "hello fire\n",
      "strong 45\n",
      "welcome 56\n"
     ]
    }
   ],
   "source": [
    "for valueOne, valueTwo in newDictionary.items():\n",
    "    print(valueOne, valueTwo)"
   ]
  },
  {
   "cell_type": "markdown",
   "metadata": {},
   "source": [
    "Make a copy of this dictionary and store it as pairs2"
   ]
  },
  {
   "cell_type": "code",
   "execution_count": 18,
   "metadata": {},
   "outputs": [
    {
     "name": "stdout",
     "output_type": "stream",
     "text": [
      "{'hello': 'fire', 'strong': '45', 'welcome': '56'}\n"
     ]
    }
   ],
   "source": [
    "pairs2 = newDictionary.copy()\n",
    "print(pairs2)"
   ]
  },
  {
   "cell_type": "markdown",
   "metadata": {},
   "source": [
    "Please make a nested dictionary called Parent with 2 children"
   ]
  },
  {
   "cell_type": "code",
   "execution_count": 24,
   "metadata": {},
   "outputs": [
    {
     "name": "stdout",
     "output_type": "stream",
     "text": [
      "{'ChildOne': {'name': 'George', 'age': '3', 'fav_toy': 'football'}, 'ChildTwo': {'name': 'Tom', 'age': '5', 'fav_toy': 'teddy bear'}}\n"
     ]
    }
   ],
   "source": [
    "Parent = {\n",
    "    \"ChildOne\" : {\"name\": \"George\", \"age\": \"3\", \"fav_toy\": \"football\"},\n",
    "    \"ChildTwo\" : {\"name\": \"Tom\", \"age\": \"5\", \"fav_toy\": \"teddy bear\"},\n",
    "}\n",
    "\n",
    "print(Parent)"
   ]
  },
  {
   "cell_type": "code",
   "execution_count": 36,
   "metadata": {},
   "outputs": [
    {
     "name": "stdout",
     "output_type": "stream",
     "text": [
      "ChildOne  -  George is 3 his favorite toy is his football\n",
      "ChildTwo  -  Tom is 5 his favorite toy is his teddy bear\n"
     ]
    }
   ],
   "source": [
    "for nextChild, nextDictChild in Parent.items():\n",
    "    print(nextChild, \" - \", nextDictChild.get(\"name\"), \"is\", nextDictChild.get(\"age\"),\n",
    "          \"his favorite toy is his\", nextDictChild.get(\"fav_toy\"))\n",
    "    "
   ]
  },
  {
   "cell_type": "code",
   "execution_count": null,
   "metadata": {},
   "outputs": [],
   "source": []
  }
 ],
 "metadata": {
  "kernelspec": {
   "display_name": "Python 3",
   "language": "python",
   "name": "python3"
  },
  "language_info": {
   "codemirror_mode": {
    "name": "ipython",
    "version": 3
   },
   "file_extension": ".py",
   "mimetype": "text/x-python",
   "name": "python",
   "nbconvert_exporter": "python",
   "pygments_lexer": "ipython3",
   "version": "3.7.6"
  }
 },
 "nbformat": 4,
 "nbformat_minor": 4
}
